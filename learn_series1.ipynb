{
 "cells": [
  {
   "cell_type": "code",
   "execution_count": 24,
   "id": "6af0379f-70ee-485d-b569-3cf5f192d379",
   "metadata": {},
   "outputs": [],
   "source": [
    "import pandas as pd"
   ]
  },
  {
   "cell_type": "code",
   "execution_count": 26,
   "id": "5e47e7ba-dbe8-40f3-8c2c-f201b4fc3aa1",
   "metadata": {},
   "outputs": [
    {
     "data": {
      "text/plain": [
       "'2.0.3'"
      ]
     },
     "execution_count": 26,
     "metadata": {},
     "output_type": "execute_result"
    }
   ],
   "source": [
    "pd.__version__"
   ]
  },
  {
   "cell_type": "code",
   "execution_count": 30,
   "id": "e42fdb74-2b8e-445e-b935-c72976e2cd67",
   "metadata": {},
   "outputs": [
    {
     "data": {
      "text/plain": [
       "Series([], dtype: object)"
      ]
     },
     "execution_count": 30,
     "metadata": {},
     "output_type": "execute_result"
    }
   ],
   "source": [
    "s = pd.Series()\n",
    "s"
   ]
  },
  {
   "cell_type": "code",
   "execution_count": 31,
   "id": "bec6822f-e200-4f42-b284-e2ed42dd049f",
   "metadata": {},
   "outputs": [
    {
     "data": {
      "text/plain": [
       "0    1\n",
       "1    2\n",
       "2    3\n",
       "dtype: int64"
      ]
     },
     "execution_count": 31,
     "metadata": {},
     "output_type": "execute_result"
    }
   ],
   "source": [
    "s = pd.Series([1, 2, 3])\n",
    "s"
   ]
  },
  {
   "cell_type": "code",
   "execution_count": 33,
   "id": "701df74a-cd7d-4740-bbad-33eeef23beb2",
   "metadata": {},
   "outputs": [
    {
     "data": {
      "text/plain": [
       "0    hasan\n",
       "1     True\n",
       "2    False\n",
       "3        3\n",
       "dtype: object"
      ]
     },
     "execution_count": 33,
     "metadata": {},
     "output_type": "execute_result"
    }
   ],
   "source": [
    "s = pd.Series([\"hasan\", True, False, 3])\n",
    "s"
   ]
  },
  {
   "cell_type": "code",
   "execution_count": 37,
   "id": "727d54a9-d572-442b-a4de-aa621df5fbda",
   "metadata": {},
   "outputs": [
    {
     "data": {
      "text/plain": [
       "R1    hasan\n",
       "R2     True\n",
       "R3    False\n",
       "R4        3\n",
       "dtype: object"
      ]
     },
     "execution_count": 37,
     "metadata": {},
     "output_type": "execute_result"
    }
   ],
   "source": [
    "s = pd.Series([\"hasan\", True, False, 3])\n",
    "s.index = ['R1', 'R2', 'R3', 'R4']\n",
    "s"
   ]
  },
  {
   "cell_type": "code",
   "execution_count": 41,
   "id": "72b51102-14bf-4764-8199-8562a8fc0cde",
   "metadata": {},
   "outputs": [
    {
     "data": {
      "text/plain": [
       "('hasan', True)"
      ]
     },
     "execution_count": 41,
     "metadata": {},
     "output_type": "execute_result"
    }
   ],
   "source": [
    "s = pd.Series([\"hasan\", True, False, 3])\n",
    "s.index = ['R1', 'R2', 'R3', 'R4']\n",
    "s[0] , s['R2']"
   ]
  },
  {
   "cell_type": "code",
   "execution_count": 42,
   "id": "97102c8e-1c59-4724-85af-7b9758e1fd62",
   "metadata": {},
   "outputs": [
    {
     "data": {
      "text/plain": [
       "R1    hasan\n",
       "R2     True\n",
       "R3    False\n",
       "R4        3\n",
       "dtype: object"
      ]
     },
     "execution_count": 42,
     "metadata": {},
     "output_type": "execute_result"
    }
   ],
   "source": [
    "s = pd.Series([\"hasan\", True, False, 3], index = ['R1', 'R2', 'R3', 'R4'])\n",
    "s"
   ]
  },
  {
   "cell_type": "code",
   "execution_count": 43,
   "id": "29e3ede3-749e-453a-9d89-fd2fd155a7aa",
   "metadata": {},
   "outputs": [
    {
     "data": {
      "text/plain": [
       "0    1\n",
       "1    2\n",
       "2    3\n",
       "3    4\n",
       "dtype: uint8"
      ]
     },
     "execution_count": 43,
     "metadata": {},
     "output_type": "execute_result"
    }
   ],
   "source": [
    "import numpy as np\n",
    "s = pd.Series([1, 2, 3, 4], dtype = np.uint8)\n",
    "s"
   ]
  },
  {
   "cell_type": "code",
   "execution_count": 46,
   "id": "16f88a86-e663-4f21-adc9-a0765744dbbf",
   "metadata": {},
   "outputs": [
    {
     "data": {
      "text/plain": [
       "u1     amir\n",
       "u2    hasan\n",
       "u3     reza\n",
       "dtype: object"
      ]
     },
     "execution_count": 46,
     "metadata": {},
     "output_type": "execute_result"
    }
   ],
   "source": [
    "s = pd.Series({'u1': 'amir', 'u2': 'hasan', 'u3': 'reza'})\n",
    "s"
   ]
  },
  {
   "cell_type": "code",
   "execution_count": 48,
   "id": "36b4b296-b3d5-4a1c-980a-bd73d8130048",
   "metadata": {},
   "outputs": [
    {
     "data": {
      "text/plain": [
       "('hasan', 'hasan')"
      ]
     },
     "execution_count": 48,
     "metadata": {},
     "output_type": "execute_result"
    }
   ],
   "source": [
    "s = pd.Series({'u1': 'amir', 'u2': 'hasan', 'u3': 'reza'})\n",
    "s[1], s['u2']"
   ]
  },
  {
   "cell_type": "code",
   "execution_count": 48,
   "id": "9e9d4921-de72-4c86-ba9d-1fcbbe60be89",
   "metadata": {},
   "outputs": [
    {
     "data": {
      "text/plain": [
       "('hasan', 'hasan')"
      ]
     },
     "execution_count": 48,
     "metadata": {},
     "output_type": "execute_result"
    }
   ],
   "source": [
    "s = pd.Series({'u1': 'amir', 'u2': 'hasan', 'u3': 'reza'})\n",
    "s[1], s['u2']"
   ]
  },
  {
   "cell_type": "code",
   "execution_count": 51,
   "id": "434c7d40-01db-4c75-a5d8-dab28a7168b4",
   "metadata": {},
   "outputs": [
    {
     "data": {
      "text/plain": [
       "numpy.ndarray"
      ]
     },
     "execution_count": 51,
     "metadata": {},
     "output_type": "execute_result"
    }
   ],
   "source": [
    "s = pd.Series({'u1': 'amir', 'u2': 'hasan', 'u3': 'reza'})\n",
    "type(s.values)"
   ]
  },
  {
   "cell_type": "code",
   "execution_count": 58,
   "id": "f51fe966-039d-4f8b-a082-e393e57e36c5",
   "metadata": {},
   "outputs": [
    {
     "data": {
      "text/plain": [
       "(Index(['u1', 'u2', 'u3'], dtype='object'),\n",
       " array(['amir', 'hasan', 'reza'], dtype=object),\n",
       " 3,\n",
       " dtype('O'),\n",
       " True,\n",
       " True,\n",
       " False)"
      ]
     },
     "execution_count": 58,
     "metadata": {},
     "output_type": "execute_result"
    }
   ],
   "source": [
    "s = pd.Series({'u1': 'amir', 'u2': 'hasan', 'u3': 'reza'})\n",
    "s.index, s.values, s.size, s.dtype, s.is_unique, s.is_monotonic_increasing, s.is_monotonic_decreasing"
   ]
  },
  {
   "cell_type": "code",
   "execution_count": 59,
   "id": "d18d1841-a211-4519-907e-65d169f07605",
   "metadata": {},
   "outputs": [
    {
     "data": {
      "text/plain": [
       "0        0\n",
       "1        1\n",
       "2        2\n",
       "3        3\n",
       "4        4\n",
       "      ... \n",
       "495    495\n",
       "496    496\n",
       "497    497\n",
       "498    498\n",
       "499    499\n",
       "Length: 500, dtype: int64"
      ]
     },
     "execution_count": 59,
     "metadata": {},
     "output_type": "execute_result"
    }
   ],
   "source": [
    "s = pd.Series(range(0, 500, 1))\n",
    "s"
   ]
  },
  {
   "cell_type": "code",
   "execution_count": 63,
   "id": "833e655d-939c-424b-881c-b22c80165a30",
   "metadata": {},
   "outputs": [
    {
     "data": {
      "text/plain": [
       "(0    0\n",
       " 1    1\n",
       " 2    2\n",
       " dtype: int64,\n",
       " '------------',\n",
       " 495    495\n",
       " 496    496\n",
       " 497    497\n",
       " 498    498\n",
       " 499    499\n",
       " dtype: int64)"
      ]
     },
     "execution_count": 63,
     "metadata": {},
     "output_type": "execute_result"
    }
   ],
   "source": [
    "s = pd.Series(range(0, 500, 1))\n",
    "s.head(3), '------------',  s.tail()"
   ]
  },
  {
   "cell_type": "code",
   "execution_count": 88,
   "id": "044508bc-d0dd-4a5d-aaa0-574c8cdc3391",
   "metadata": {},
   "outputs": [
    {
     "data": {
      "text/plain": [
       "0    1.0\n",
       "1    2.0\n",
       "2    3.0\n",
       "3    NaN\n",
       "4    5.0\n",
       "dtype: float64"
      ]
     },
     "execution_count": 88,
     "metadata": {},
     "output_type": "execute_result"
    }
   ],
   "source": [
    "s = pd.Series([1, 2, 3, np.nan, 5]) #np.nan: not a number : زمانی که بخشی از دیتا گم شده\n",
    "s"
   ]
  },
  {
   "cell_type": "code",
   "execution_count": 87,
   "id": "03d7fa83-b02a-43a8-9f90-747ce1fcdbcf",
   "metadata": {},
   "outputs": [
    {
     "data": {
      "text/plain": [
       "(4, 11.0, 30.0)"
      ]
     },
     "execution_count": 87,
     "metadata": {},
     "output_type": "execute_result"
    }
   ],
   "source": [
    "s.count(), s.sum(), s.product() # محاسبات را انجام میده و روی دیتاهایی که موجود هستند و گم نشدند"
   ]
  },
  {
   "cell_type": "code",
   "execution_count": 86,
   "id": "250891a7-6bc9-4997-badc-0735c3b2eca0",
   "metadata": {},
   "outputs": [
    {
     "data": {
      "text/plain": [
       "0     1.0\n",
       "1     3.0\n",
       "2     6.0\n",
       "3     NaN\n",
       "4    11.0\n",
       "dtype: float64"
      ]
     },
     "execution_count": 86,
     "metadata": {},
     "output_type": "execute_result"
    }
   ],
   "source": [
    "s.cumsum() #جمع تجمعی"
   ]
  },
  {
   "cell_type": "code",
   "execution_count": 85,
   "id": "5ac7688d-c13f-4894-bdda-6a2597ac6273",
   "metadata": {},
   "outputs": [
    {
     "data": {
      "text/plain": [
       "0         NaN\n",
       "1    1.000000\n",
       "2    0.500000\n",
       "3    0.000000\n",
       "4    0.666667\n",
       "dtype: float64"
      ]
     },
     "execution_count": 85,
     "metadata": {},
     "output_type": "execute_result"
    }
   ],
   "source": [
    "s.pct_change() #درصد تغییرات نسبت به عنصر قبلی"
   ]
  },
  {
   "cell_type": "code",
   "execution_count": 84,
   "id": "8c8cf061-9638-4e47-96d5-9183bf864937",
   "metadata": {},
   "outputs": [
    {
     "data": {
      "text/plain": [
       "(1.0, 5.0, 2.75)"
      ]
     },
     "execution_count": 84,
     "metadata": {},
     "output_type": "execute_result"
    }
   ],
   "source": [
    "s.min(), s.max(), s.mean() #میانگین "
   ]
  },
  {
   "cell_type": "code",
   "execution_count": 83,
   "id": "17db0fc8-91da-4047-ab05-3475de870235",
   "metadata": {},
   "outputs": [
    {
     "data": {
      "text/plain": [
       "count    4.000000\n",
       "mean     2.750000\n",
       "std      1.707825\n",
       "min      1.000000\n",
       "25%      1.750000\n",
       "50%      2.500000\n",
       "75%      3.500000\n",
       "max      5.000000\n",
       "dtype: float64"
      ]
     },
     "execution_count": 83,
     "metadata": {},
     "output_type": "execute_result"
    }
   ],
   "source": [
    "s.describe()"
   ]
  },
  {
   "cell_type": "code",
   "execution_count": 82,
   "id": "4606a51c-cf1f-45d0-8273-b5da2a9d25da",
   "metadata": {},
   "outputs": [
    {
     "data": {
      "text/plain": [
       "3   NaN\n",
       "dtype: float64"
      ]
     },
     "execution_count": 82,
     "metadata": {},
     "output_type": "execute_result"
    }
   ],
   "source": [
    "s.sample() #رندم یکی برمیگردونه"
   ]
  },
  {
   "cell_type": "code",
   "execution_count": 96,
   "id": "51fae44f-cbca-455b-8b3f-8431bd423d57",
   "metadata": {},
   "outputs": [
    {
     "data": {
      "text/plain": [
       "4    5.0\n",
       "2    3.0\n",
       "0    1.0\n",
       "dtype: float64"
      ]
     },
     "execution_count": 96,
     "metadata": {},
     "output_type": "execute_result"
    }
   ],
   "source": [
    "s.sample(3) #رندم سه تا برمیگردونه"
   ]
  },
  {
   "cell_type": "code",
   "execution_count": 99,
   "id": "d6b909de-2d53-4b8e-8acb-3ad67433bc58",
   "metadata": {},
   "outputs": [
    {
     "data": {
      "text/plain": [
       "5"
      ]
     },
     "execution_count": 99,
     "metadata": {},
     "output_type": "execute_result"
    }
   ],
   "source": [
    "# استفاده از متودهای داخل پایتون هم برای سری ها شدنی هست\n",
    "len(s)\n",
    "#list(s)"
   ]
  }
 ],
 "metadata": {
  "kernelspec": {
   "display_name": "Python 3 (ipykernel)",
   "language": "python",
   "name": "python3"
  },
  "language_info": {
   "codemirror_mode": {
    "name": "ipython",
    "version": 3
   },
   "file_extension": ".py",
   "mimetype": "text/x-python",
   "name": "python",
   "nbconvert_exporter": "python",
   "pygments_lexer": "ipython3",
   "version": "3.8.10"
  }
 },
 "nbformat": 4,
 "nbformat_minor": 5
}
