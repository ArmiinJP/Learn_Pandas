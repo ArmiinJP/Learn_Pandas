{
 "cells": [
  {
   "cell_type": "code",
   "execution_count": 12,
   "id": "20b3c369-65ef-49c1-b3f7-45c9ca1678fa",
   "metadata": {},
   "outputs": [],
   "source": [
    "import numpy as np\n",
    "import math"
   ]
  },
  {
   "cell_type": "code",
   "execution_count": 17,
   "id": "97c70acb-28a4-4d38-ad45-36f7926a751b",
   "metadata": {},
   "outputs": [
    {
     "data": {
      "text/plain": [
       "1.0"
      ]
     },
     "execution_count": 17,
     "metadata": {},
     "output_type": "execute_result"
    }
   ],
   "source": [
    "input = [0, 0, 0, 0, 0, 2, 2, 2, 2, 2]\n",
    "def entropy(y):\n",
    "    hist = np.bincount(y)\n",
    "    ps = hist / len(y)\n",
    "    sum = 0\n",
    "    for p in ps:\n",
    "        if p > 0:\n",
    "            sum += p * math.log2(p)   \n",
    "        result = -1 * sum\n",
    "    return result\n",
    "\n",
    "entropy(input)"
   ]
  },
  {
   "cell_type": "code",
   "execution_count": 18,
   "id": "b5ded0ac-71d9-495a-a030-57fb0c753448",
   "metadata": {},
   "outputs": [],
   "source": [
    "from collections import Counter"
   ]
  },
  {
   "cell_type": "code",
   "execution_count": 27,
   "id": "425130c2-8413-4fd9-8a6b-18a05103fcf2",
   "metadata": {},
   "outputs": [
    {
     "data": {
      "text/plain": [
       "0"
      ]
     },
     "execution_count": 27,
     "metadata": {},
     "output_type": "execute_result"
    }
   ],
   "source": [
    "Counter(input).most_common(1)[0][0]"
   ]
  }
 ],
 "metadata": {
  "kernelspec": {
   "display_name": "Python 3 (ipykernel)",
   "language": "python",
   "name": "python3"
  },
  "language_info": {
   "codemirror_mode": {
    "name": "ipython",
    "version": 3
   },
   "file_extension": ".py",
   "mimetype": "text/x-python",
   "name": "python",
   "nbconvert_exporter": "python",
   "pygments_lexer": "ipython3",
   "version": "3.8.10"
  }
 },
 "nbformat": 4,
 "nbformat_minor": 5
}
