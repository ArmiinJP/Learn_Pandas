{
 "cells": [
  {
   "cell_type": "code",
   "execution_count": 1,
   "id": "6b037711-a6ab-4d3d-acae-a9d813860d61",
   "metadata": {},
   "outputs": [],
   "source": [
    "import pandas as pd\n",
    "import numpy as np"
   ]
  },
  {
   "cell_type": "code",
   "execution_count": 5,
   "id": "8ec044d7-a12d-4bee-8631-4449e0515eac",
   "metadata": {},
   "outputs": [
    {
     "name": "stdout",
     "output_type": "stream",
     "text": [
      "<class 'pandas.core.frame.DataFrame'>\n",
      "RangeIndex: 1001 entries, 0 to 1000\n",
      "Data columns (total 6 columns):\n",
      " #   Column      Non-Null Count  Dtype  \n",
      "---  ------      --------------  -----  \n",
      " 0   First Name  933 non-null    object \n",
      " 1   Gender      854 non-null    object \n",
      " 2   Start Date  999 non-null    object \n",
      " 3   Salary      999 non-null    float64\n",
      " 4   Mgmt        933 non-null    object \n",
      " 5   Team        957 non-null    object \n",
      "dtypes: float64(1), object(5)\n",
      "memory usage: 47.0+ KB\n"
     ]
    }
   ],
   "source": [
    "ep = pd.read_csv('github_source/employees.csv')\n",
    "ep.info()"
   ]
  },
  {
   "cell_type": "code",
   "execution_count": 6,
   "id": "d6bba3e3-393e-4ea0-9ecd-1da55064860d",
   "metadata": {},
   "outputs": [
    {
     "name": "stdout",
     "output_type": "stream",
     "text": [
      "<class 'pandas.core.frame.DataFrame'>\n",
      "RangeIndex: 1001 entries, 0 to 1000\n",
      "Data columns (total 6 columns):\n",
      " #   Column      Non-Null Count  Dtype         \n",
      "---  ------      --------------  -----         \n",
      " 0   First Name  933 non-null    object        \n",
      " 1   Gender      854 non-null    object        \n",
      " 2   Start Date  999 non-null    datetime64[ns]\n",
      " 3   Salary      999 non-null    float64       \n",
      " 4   Mgmt        933 non-null    object        \n",
      " 5   Team        957 non-null    object        \n",
      "dtypes: datetime64[ns](1), float64(1), object(4)\n",
      "memory usage: 47.0+ KB\n"
     ]
    },
    {
     "name": "stderr",
     "output_type": "stream",
     "text": [
      "/tmp/ipykernel_7807/3847873211.py:3: UserWarning: Could not infer format, so each element will be parsed individually, falling back to `dateutil`. To ensure parsing is consistent and as-expected, please specify a format.\n",
      "  ep = pd.read_csv('github_source/employees.csv', parse_dates=['Start Date'])\n"
     ]
    }
   ],
   "source": [
    "#روشهایی برای کاهش مموری یوزیج\n",
    "#1. تاریخ ها را به فرمت تاریخ تبدیل کنید\n",
    "ep = pd.read_csv('github_source/employees.csv', parse_dates=['Start Date'])\n",
    "ep.info()"
   ]
  },
  {
   "cell_type": "code",
   "execution_count": 10,
   "id": "1c20df75-a1bb-4d73-8e21-190fd3d45386",
   "metadata": {},
   "outputs": [
    {
     "name": "stdout",
     "output_type": "stream",
     "text": [
      "<class 'pandas.core.frame.DataFrame'>\n",
      "RangeIndex: 1001 entries, 0 to 1000\n",
      "Data columns (total 6 columns):\n",
      " #   Column      Non-Null Count  Dtype         \n",
      "---  ------      --------------  -----         \n",
      " 0   First Name  933 non-null    object        \n",
      " 1   Gender      854 non-null    object        \n",
      " 2   Start Date  999 non-null    datetime64[ns]\n",
      " 3   Salary      999 non-null    float64       \n",
      " 4   Mgmt        1001 non-null   bool          \n",
      " 5   Team        957 non-null    object        \n",
      "dtypes: bool(1), datetime64[ns](1), float64(1), object(3)\n",
      "memory usage: 40.2+ KB\n"
     ]
    }
   ],
   "source": [
    "#2. الان منیجمنت را چون دیتاش بول هست میخوام از ابجکت که در نظر گرفته به بول تغییر بدم\n",
    "ep['Mgmt'] = ep['Mgmt'].astype(bool)\n",
    "ep.info()\n",
    "# فقط در نظر داشته باشید نن را میاد و به ترو تغییر میده یعنی اگه قبلا فالس و ترو و نن بود الان دیگه فقط فالس و ترو خواهد بود\n"
   ]
  },
  {
   "cell_type": "code",
   "execution_count": 13,
   "id": "1048683b-c541-482a-8925-13db0a8b52c8",
   "metadata": {},
   "outputs": [
    {
     "name": "stdout",
     "output_type": "stream",
     "text": [
      "<class 'pandas.core.frame.DataFrame'>\n",
      "RangeIndex: 1001 entries, 0 to 1000\n",
      "Data columns (total 6 columns):\n",
      " #   Column      Non-Null Count  Dtype         \n",
      "---  ------      --------------  -----         \n",
      " 0   First Name  933 non-null    object        \n",
      " 1   Gender      854 non-null    object        \n",
      " 2   Start Date  999 non-null    datetime64[ns]\n",
      " 3   Salary      1001 non-null   int32         \n",
      " 4   Mgmt        1001 non-null   bool          \n",
      " 5   Team        957 non-null    object        \n",
      "dtypes: bool(1), datetime64[ns](1), int32(1), object(3)\n",
      "memory usage: 36.3+ KB\n"
     ]
    }
   ],
   "source": [
    "#3. این حقوق را هم فلوت کشکی در نظر گرفته هم ۶۴ بیتی گذاشته به نظر میرسه اینت ۳۲ کار مار و حل کنه\n",
    "# فقط یه چالشی داریم که نمیدونه نن ها را چیکار کنه برای اینکار از متود زیر کمک میگیریم که میاد به جای نن ها صفر میزاره\n",
    "ep['Salary'] = ep['Salary'].fillna(0).astype('int32')\n",
    "ep.info()"
   ]
  },
  {
   "cell_type": "code",
   "execution_count": 14,
   "id": "30b4d259-d73e-422c-a2ef-86cd659e336e",
   "metadata": {},
   "outputs": [
    {
     "data": {
      "text/plain": [
       "First Name    200\n",
       "Gender          2\n",
       "Start Date    971\n",
       "Salary        995\n",
       "Mgmt            2\n",
       "Team           10\n",
       "dtype: int64"
      ]
     },
     "execution_count": 14,
     "metadata": {},
     "output_type": "execute_result"
    }
   ],
   "source": [
    "# 3. ستونهایی که مقدار منحصر به فرد کمی دارند مثلا جنسیت که فقط مرد و زن هست یا خیلی چیزهای دیگه از نوع داده‌ای کتگوری میشه استفاده کرد\n",
    "# با روش زیر میتونیم بفهمیم در هر ستون چند مقدار منصحرف به فرد هست الان هم تیم هم جندر جفتشون خوبن که نوع دادشون به جای ابجکت بشه کتگوری\n",
    "ep.nunique()"
   ]
  },
  {
   "cell_type": "code",
   "execution_count": 18,
   "id": "a7e2027b-a325-4231-9fcb-80adf58103d7",
   "metadata": {},
   "outputs": [
    {
     "name": "stdout",
     "output_type": "stream",
     "text": [
      "<class 'pandas.core.frame.DataFrame'>\n",
      "RangeIndex: 1001 entries, 0 to 1000\n",
      "Data columns (total 6 columns):\n",
      " #   Column      Non-Null Count  Dtype         \n",
      "---  ------      --------------  -----         \n",
      " 0   First Name  933 non-null    object        \n",
      " 1   Gender      854 non-null    category      \n",
      " 2   Start Date  999 non-null    datetime64[ns]\n",
      " 3   Salary      1001 non-null   int32         \n",
      " 4   Mgmt        1001 non-null   bool          \n",
      " 5   Team        957 non-null    category      \n",
      "dtypes: bool(1), category(2), datetime64[ns](1), int32(1), object(1)\n",
      "memory usage: 23.1+ KB\n"
     ]
    }
   ],
   "source": [
    "ep['Gender'] = ep['Gender'].astype('category')\n",
    "ep['Team'] = ep['Team'].astype('category')\n",
    "ep.info()"
   ]
  },
  {
   "cell_type": "code",
   "execution_count": 26,
   "id": "69646a01-d09e-4ecd-aa2e-fb694607e365",
   "metadata": {},
   "outputs": [
    {
     "name": "stdout",
     "output_type": "stream",
     "text": [
      "<class 'pandas.core.frame.DataFrame'>\n",
      "RangeIndex: 1001 entries, 0 to 1000\n",
      "Data columns (total 5 columns):\n",
      " #   Column      Non-Null Count  Dtype         \n",
      "---  ------      --------------  -----         \n",
      " 0   Gender      854 non-null    category      \n",
      " 1   Start Date  999 non-null    datetime64[ns]\n",
      " 2   Salary      999 non-null    float64       \n",
      " 3   Mgmt        933 non-null    object        \n",
      " 4   Team        957 non-null    category      \n",
      "dtypes: category(2), datetime64[ns](1), float64(1), object(1)\n",
      "memory usage: 26.0+ KB\n"
     ]
    },
    {
     "name": "stderr",
     "output_type": "stream",
     "text": [
      "/tmp/ipykernel_7807/4250085840.py:3: UserWarning: Could not infer format, so each element will be parsed individually, falling back to `dateutil`. To ensure parsing is consistent and as-expected, please specify a format.\n",
      "  ep = pd.read_csv('github_source/employees.csv', parse_dates=['Start Date'],\n"
     ]
    }
   ],
   "source": [
    "# لزومی به آوردن همه‌ی ستونها نیست، میشه با همون یوزکالز موقع تعریف کار و جمع کرد.\n",
    "# کل کاری که کردیم میشه کد زیر\n",
    "ep = pd.read_csv('github_source/employees.csv', parse_dates=['Start Date'], \n",
    "                usecols=['Gender', 'Start Date', 'Salary', 'Mgmt', 'Team'], \n",
    "                dtype={\n",
    "                    'Gender' : 'category',\n",
    "                    'Team' : 'category'\n",
    "                })\n",
    "\n",
    "ep.info()"
   ]
  },
  {
   "cell_type": "code",
   "execution_count": 27,
   "id": "b3ca2a4a-9c58-488b-b933-145732fc30ba",
   "metadata": {},
   "outputs": [
    {
     "name": "stdout",
     "output_type": "stream",
     "text": [
      "<class 'pandas.core.frame.DataFrame'>\n",
      "RangeIndex: 200 entries, 0 to 199\n",
      "Data columns (total 6 columns):\n",
      " #   Column      Non-Null Count  Dtype         \n",
      "---  ------      --------------  -----         \n",
      " 0   First Name  185 non-null    object        \n",
      " 1   Gender      168 non-null    object        \n",
      " 2   Start Date  199 non-null    datetime64[ns]\n",
      " 3   Salary      199 non-null    float64       \n",
      " 4   Mgmt        185 non-null    object        \n",
      " 5   Team        192 non-null    object        \n",
      "dtypes: datetime64[ns](1), float64(1), object(4)\n",
      "memory usage: 9.5+ KB\n",
      "===================================================\n",
      "<class 'pandas.core.frame.DataFrame'>\n",
      "RangeIndex: 200 entries, 200 to 399\n",
      "Data columns (total 6 columns):\n",
      " #   Column      Non-Null Count  Dtype         \n",
      "---  ------      --------------  -----         \n",
      " 0   First Name  187 non-null    object        \n",
      " 1   Gender      172 non-null    object        \n",
      " 2   Start Date  200 non-null    datetime64[ns]\n",
      " 3   Salary      200 non-null    int64         \n",
      " 4   Mgmt        187 non-null    object        \n",
      " 5   Team        195 non-null    object        \n",
      "dtypes: datetime64[ns](1), int64(1), object(4)\n",
      "memory usage: 9.5+ KB\n",
      "===================================================\n",
      "<class 'pandas.core.frame.DataFrame'>\n",
      "RangeIndex: 200 entries, 400 to 599\n",
      "Data columns (total 6 columns):\n",
      " #   Column      Non-Null Count  Dtype         \n",
      "---  ------      --------------  -----         \n",
      " 0   First Name  188 non-null    object        \n",
      " 1   Gender      177 non-null    object        \n",
      " 2   Start Date  200 non-null    datetime64[ns]\n",
      " 3   Salary      200 non-null    int64         \n",
      " 4   Mgmt        188 non-null    object        \n",
      " 5   Team        190 non-null    object        \n",
      "dtypes: datetime64[ns](1), int64(1), object(4)\n",
      "memory usage: 9.5+ KB\n",
      "===================================================\n",
      "<class 'pandas.core.frame.DataFrame'>\n",
      "RangeIndex: 200 entries, 600 to 799\n",
      "Data columns (total 6 columns):\n",
      " #   Column      Non-Null Count  Dtype         \n",
      "---  ------      --------------  -----         \n",
      " 0   First Name  184 non-null    object        \n",
      " 1   Gender      162 non-null    object        \n",
      " 2   Start Date  200 non-null    datetime64[ns]\n",
      " 3   Salary      200 non-null    int64         \n",
      " 4   Mgmt        184 non-null    object        \n",
      " 5   Team        188 non-null    object        \n",
      "dtypes: datetime64[ns](1), int64(1), object(4)\n",
      "memory usage: 9.5+ KB\n",
      "===================================================\n",
      "<class 'pandas.core.frame.DataFrame'>\n",
      "RangeIndex: 200 entries, 800 to 999\n",
      "Data columns (total 6 columns):\n",
      " #   Column      Non-Null Count  Dtype         \n",
      "---  ------      --------------  -----         \n",
      " 0   First Name  189 non-null    object        \n",
      " 1   Gender      175 non-null    object        \n",
      " 2   Start Date  200 non-null    datetime64[ns]\n",
      " 3   Salary      200 non-null    int64         \n",
      " 4   Mgmt        189 non-null    object        \n",
      " 5   Team        192 non-null    object        \n",
      "dtypes: datetime64[ns](1), int64(1), object(4)\n",
      "memory usage: 9.5+ KB\n",
      "===================================================\n",
      "<class 'pandas.core.frame.DataFrame'>\n",
      "RangeIndex: 1 entries, 1000 to 1000\n",
      "Data columns (total 6 columns):\n",
      " #   Column      Non-Null Count  Dtype         \n",
      "---  ------      --------------  -----         \n",
      " 0   First Name  0 non-null      float64       \n",
      " 1   Gender      0 non-null      float64       \n",
      " 2   Start Date  0 non-null      datetime64[ns]\n",
      " 3   Salary      0 non-null      float64       \n",
      " 4   Mgmt        0 non-null      float64       \n",
      " 5   Team        0 non-null      float64       \n",
      "dtypes: datetime64[ns](1), float64(5)\n",
      "memory usage: 180.0 bytes\n",
      "===================================================\n"
     ]
    },
    {
     "name": "stderr",
     "output_type": "stream",
     "text": [
      "/tmp/ipykernel_7807/1252714852.py:2: UserWarning: Could not infer format, so each element will be parsed individually, falling back to `dateutil`. To ensure parsing is consistent and as-expected, please specify a format.\n",
      "  for ep in pd.read_csv('github_source/employees.csv', parse_dates=['Start Date'], chunksize=200):\n",
      "/tmp/ipykernel_7807/1252714852.py:2: UserWarning: Could not infer format, so each element will be parsed individually, falling back to `dateutil`. To ensure parsing is consistent and as-expected, please specify a format.\n",
      "  for ep in pd.read_csv('github_source/employees.csv', parse_dates=['Start Date'], chunksize=200):\n",
      "/tmp/ipykernel_7807/1252714852.py:2: UserWarning: Could not infer format, so each element will be parsed individually, falling back to `dateutil`. To ensure parsing is consistent and as-expected, please specify a format.\n",
      "  for ep in pd.read_csv('github_source/employees.csv', parse_dates=['Start Date'], chunksize=200):\n",
      "/tmp/ipykernel_7807/1252714852.py:2: UserWarning: Could not infer format, so each element will be parsed individually, falling back to `dateutil`. To ensure parsing is consistent and as-expected, please specify a format.\n",
      "  for ep in pd.read_csv('github_source/employees.csv', parse_dates=['Start Date'], chunksize=200):\n",
      "/tmp/ipykernel_7807/1252714852.py:2: UserWarning: Could not infer format, so each element will be parsed individually, falling back to `dateutil`. To ensure parsing is consistent and as-expected, please specify a format.\n",
      "  for ep in pd.read_csv('github_source/employees.csv', parse_dates=['Start Date'], chunksize=200):\n"
     ]
    }
   ],
   "source": [
    "#استفاده از چانک سایز هم خیلی مناسب هست که همه‌ی ردیف ها را با هم نیاره و چانک چانک بیار و به راحتی میشه با حلقه زدن کار و جمع کرد. کافیه متغیر چانگ و بهش بدیم\n",
    "for ep in pd.read_csv('github_source/employees.csv', parse_dates=['Start Date'], chunksize=200):\n",
    "        ep.info()\n",
    "        print(\"===================================================\")\n"
   ]
  }
 ],
 "metadata": {
  "kernelspec": {
   "display_name": "Python 3 (ipykernel)",
   "language": "python",
   "name": "python3"
  },
  "language_info": {
   "codemirror_mode": {
    "name": "ipython",
    "version": 3
   },
   "file_extension": ".py",
   "mimetype": "text/x-python",
   "name": "python",
   "nbconvert_exporter": "python",
   "pygments_lexer": "ipython3",
   "version": "3.9.9"
  }
 },
 "nbformat": 4,
 "nbformat_minor": 5
}
